{
 "cells": [
  {
   "cell_type": "markdown",
   "id": "0cd39843-2b40-45d7-a8c3-31ccf6e69808",
   "metadata": {},
   "source": [
    "## Introduzione\n",
    "Questi due blocchi di codice lavorano insieme per elaborare e analizzare i dati delle carriere dei giocatori NBA. Il primo codice scarica i dati dei giocatori e li prepara, salvandoli in un file CSV (**`player_nba.csv`**\n",
    ") con informazioni come ID del giocatore, nome e stagioni attive.\n",
    "\n",
    "Il secondo codice utilizza questi dati per analizzare le performance di ciascun giocatore. Recupera le statistiche delle partite stagionali da un'API, calcola metriche avanzate (come percentuali di tiro e medie per partita), e aggrega il tutto in un nuovo file CSV (**`nba_stats.csv`**\n",
    ") pronto per analisi approfondite o visualizzazioni.\n",
    "\n",
    "Questa struttura consente di andare dal download e pulizia dei dati grezzi fino alla generazione di statistiche avanzate per un'intera carriera."
   ]
  },
  {
   "cell_type": "markdown",
   "id": "c8f0a40e-890c-445d-8fa4-41bd63e5e7d9",
   "metadata": {},
   "source": [
    "#### Installazione delle librerie necessarie\n",
    "Installa la libreria nba_api per scaricare e lavorare con dataset relativi alla NBA."
   ]
  },
  {
   "cell_type": "code",
   "execution_count": 1,
   "id": "2b7f8668-6805-4df5-95ae-6f6653e46f75",
   "metadata": {},
   "outputs": [
    {
     "name": "stdout",
     "output_type": "stream",
     "text": [
      "Requirement already satisfied: nba_api in /opt/anaconda3/lib/python3.10/site-packages (1.5.2)\n",
      "Requirement already satisfied: certifi<2025.0.0,>=2023.7.22 in /opt/anaconda3/lib/python3.10/site-packages (from nba_api) (2023.11.17)\n",
      "Requirement already satisfied: numpy<2.0.0,>=1.22.2 in /opt/anaconda3/lib/python3.10/site-packages (from nba_api) (1.26.4)\n",
      "Requirement already satisfied: requests<3.0.0,>=2.31.2 in /opt/anaconda3/lib/python3.10/site-packages (from nba_api) (2.32.3)\n",
      "Requirement already satisfied: charset-normalizer<4,>=2 in /opt/anaconda3/lib/python3.10/site-packages (from requests<3.0.0,>=2.31.2->nba_api) (2.0.4)\n",
      "Requirement already satisfied: idna<4,>=2.5 in /opt/anaconda3/lib/python3.10/site-packages (from requests<3.0.0,>=2.31.2->nba_api) (3.4)\n",
      "Requirement already satisfied: urllib3<3,>=1.21.1 in /opt/anaconda3/lib/python3.10/site-packages (from requests<3.0.0,>=2.31.2->nba_api) (2.0.7)\n"
     ]
    }
   ],
   "source": [
    "!pip install nba_api"
   ]
  },
  {
   "cell_type": "markdown",
   "id": "30b5ed37-c5ec-411c-a35d-881adea57587",
   "metadata": {},
   "source": [
    "#### PRIMO CODICE\n",
    "#### Importazione delle librerie e scaricamento dei dati\n",
    "Questa cella importa le librerie necessarie e scarica i dati dei giocatori NBA utilizzando l'endpoint CommonAllPlayers."
   ]
  },
  {
   "cell_type": "code",
   "execution_count": 14,
   "id": "fa32be95-c266-456d-92b0-3dd3d073c5ca",
   "metadata": {},
   "outputs": [],
   "source": [
    "import pandas as pd\n",
    "from nba_api.stats.endpoints import commonallplayers\n",
    "\n",
    "# Scarica i dati dei giocatori NBA\n",
    "all_players = commonallplayers.CommonAllPlayers().get_data_frames()[0]"
   ]
  },
  {
   "cell_type": "markdown",
   "id": "b0129585-cbbf-44a0-a7fd-fb33b9e362d2",
   "metadata": {},
   "source": [
    "#### Pulizia e filtraggio dei dati\n",
    "Convertiamo le colonne 'FROM_YEAR' e 'TO_YEAR' in tipo numerico, gestendo eventuali valori mancanti, e filtriamo i giocatori che hanno iniziato la loro carriera dopo la stagione 2000-01, rimuovendo eventuali anomalie."
   ]
  },
  {
   "cell_type": "code",
   "execution_count": 15,
   "id": "b4acc215-6de7-4797-b29c-791bdcd1915a",
   "metadata": {},
   "outputs": [],
   "source": [
    "# Converte le colonne 'FROM_YEAR' e 'TO_YEAR' in tipo int64\n",
    "all_players['FROM_YEAR'] = pd.to_numeric(all_players['FROM_YEAR'], errors='coerce').fillna(0).astype('int64')\n",
    "all_players['TO_YEAR'] = pd.to_numeric(all_players['TO_YEAR'], errors='coerce').fillna(0).astype('int64')\n",
    "\n",
    "# Filtra i giocatori che hanno iniziato la loro carriera dopo la stagione 2000-01\n",
    "all_players = all_players[(all_players['FROM_YEAR'] > 2000) & \n",
    "                          (all_players['FROM_YEAR'] != 2024) & \n",
    "                          (all_players['FROM_YEAR'] < all_players['TO_YEAR'])]"
   ]
  },
  {
   "cell_type": "markdown",
   "id": "ea3725f8-fa1b-4d46-a642-9da645300c22",
   "metadata": {},
   "source": [
    "#### Creazione e formattazione del DataFrame dei giocatori\n",
    "Creiamo un DataFrame con i dati unici dei giocatori, rinominiamo le colonne per chiarezza, modifichiamo il formato delle stagioni e selezioniamo i primi 30 giocatori."
   ]
  },
  {
   "cell_type": "code",
   "execution_count": 16,
   "id": "0e9992a8-f254-437c-b8ab-8d9ed9c3d7e2",
   "metadata": {},
   "outputs": [],
   "source": [
    "# Crea un DataFrame con ID, nome e anni di carriera dei giocatori unici\n",
    "unique_players = all_players[['PERSON_ID', 'DISPLAY_FIRST_LAST', 'FROM_YEAR', 'TO_YEAR']].drop_duplicates()\n",
    "\n",
    "# Rinomina le colonne per chiarezza\n",
    "unique_players.columns = ['Player_ID', 'Player_Name', 'First_Season', 'Last_Season']\n",
    "\n",
    "# Modifica il formato delle stagioni\n",
    "unique_players['First_Season'] = unique_players['First_Season'].astype(str) + '-' + unique_players['First_Season'].add(1).astype(str).str[-2:]\n",
    "unique_players['Last_Season'] = (unique_players['Last_Season'] - 1).astype(str) + '-' + unique_players['Last_Season'].astype(str).str[-2:]\n",
    "\n",
    "# Filtra solo i primi 30 giocatori\n",
    "unique_players = unique_players.head(30)\n"
   ]
  },
  {
   "cell_type": "markdown",
   "id": "7294cf5c-2e05-4c07-9276-bde6615afef7",
   "metadata": {},
   "source": [
    "#### Salvataggio dei dati in un file CSV\n",
    "In questa cella salviamo il DataFrame nel file player_nba.csv."
   ]
  },
  {
   "cell_type": "code",
   "execution_count": 17,
   "id": "2bfc68da-9ddc-4d11-96b6-a0d594b02729",
   "metadata": {},
   "outputs": [
    {
     "name": "stdout",
     "output_type": "stream",
     "text": [
      "Dati dei giocatori salvati in: player_nba.csv\n"
     ]
    }
   ],
   "source": [
    "# Salva il DataFrame in un file CSV\n",
    "unique_players.to_csv('player_nba.csv', index=False)\n",
    "\n",
    "print('Dati dei giocatori salvati in: player_nba.csv')\n"
   ]
  },
  {
   "cell_type": "code",
   "execution_count": 46,
   "id": "67ee5716-0396-4324-ad68-db5d3cf14741",
   "metadata": {},
   "outputs": [
    {
     "data": {
      "text/html": [
       "<div>\n",
       "<style scoped>\n",
       "    .dataframe tbody tr th:only-of-type {\n",
       "        vertical-align: middle;\n",
       "    }\n",
       "\n",
       "    .dataframe tbody tr th {\n",
       "        vertical-align: top;\n",
       "    }\n",
       "\n",
       "    .dataframe thead th {\n",
       "        text-align: right;\n",
       "    }\n",
       "</style>\n",
       "<table border=\"1\" class=\"dataframe\">\n",
       "  <thead>\n",
       "    <tr style=\"text-align: right;\">\n",
       "      <th></th>\n",
       "      <th>Player_ID</th>\n",
       "      <th>Player_Name</th>\n",
       "      <th>First_Season</th>\n",
       "      <th>Last_Season</th>\n",
       "    </tr>\n",
       "  </thead>\n",
       "  <tbody>\n",
       "    <tr>\n",
       "      <th>9</th>\n",
       "      <td>203518</td>\n",
       "      <td>Alex Abrines</td>\n",
       "      <td>2016-17</td>\n",
       "      <td>2017-18</td>\n",
       "    </tr>\n",
       "    <tr>\n",
       "      <th>10</th>\n",
       "      <td>1630173</td>\n",
       "      <td>Precious Achiuwa</td>\n",
       "      <td>2020-21</td>\n",
       "      <td>2023-24</td>\n",
       "    </tr>\n",
       "    <tr>\n",
       "      <th>11</th>\n",
       "      <td>101165</td>\n",
       "      <td>Alex Acker</td>\n",
       "      <td>2005-06</td>\n",
       "      <td>2007-08</td>\n",
       "    </tr>\n",
       "    <tr>\n",
       "      <th>15</th>\n",
       "      <td>203112</td>\n",
       "      <td>Quincy Acy</td>\n",
       "      <td>2012-13</td>\n",
       "      <td>2017-18</td>\n",
       "    </tr>\n",
       "    <tr>\n",
       "      <th>18</th>\n",
       "      <td>200801</td>\n",
       "      <td>Hassan Adams</td>\n",
       "      <td>2006-07</td>\n",
       "      <td>2007-08</td>\n",
       "    </tr>\n",
       "  </tbody>\n",
       "</table>\n",
       "</div>"
      ],
      "text/plain": [
       "    Player_ID       Player_Name First_Season Last_Season\n",
       "9      203518      Alex Abrines      2016-17     2017-18\n",
       "10    1630173  Precious Achiuwa      2020-21     2023-24\n",
       "11     101165        Alex Acker      2005-06     2007-08\n",
       "15     203112        Quincy Acy      2012-13     2017-18\n",
       "18     200801      Hassan Adams      2006-07     2007-08"
      ]
     },
     "metadata": {},
     "output_type": "display_data"
    }
   ],
   "source": [
    "display(unique_players.head())"
   ]
  },
  {
   "cell_type": "markdown",
   "id": "fad713fb-2486-42cb-8e36-1bf3a835b462",
   "metadata": {},
   "source": [
    "#### SECONDO CODICE\n",
    "#### Importazione delle librerie e caricamento dati\n",
    "In questa cella importiamo le librerie necessarie, carichiamo il file CSV dei giocatori e generiamo le stagioni dal 2000-01 all'anno corrente."
   ]
  },
  {
   "cell_type": "code",
   "execution_count": 18,
   "id": "b3b1674a-5bd4-4375-9b40-21b14543377f",
   "metadata": {},
   "outputs": [],
   "source": [
    "import pandas as pd\n",
    "import numpy as np\n",
    "from nba_api.stats.endpoints import playergamelog\n",
    "from tqdm import tqdm  # Barra di avanzamento\n",
    "from datetime import datetime\n",
    "\n",
    "# Carica il CSV dei giocatori\n",
    "players_df = pd.read_csv('player_nba.csv')\n",
    "\n",
    "# Genera le stagioni da 2000-01 all'anno corrente\n",
    "start_year = 2000\n",
    "current_year = datetime.now().year\n",
    "seasons = [f\"{year}-{str(year + 1)[-2:]}\" for year in range(start_year, current_year + 1)]\n"
   ]
  },
  {
   "cell_type": "markdown",
   "id": "464fb29b-d016-48b4-8579-05cc5fa69951",
   "metadata": {},
   "source": [
    "#### Elaborazione dei dati per ciascun giocatore\n",
    "Ciclo attraverso i giocatori per ottenere le loro statistiche complessive. Utilizziamo una barra di avanzamento per monitorare il progresso."
   ]
  },
  {
   "cell_type": "code",
   "execution_count": 36,
   "id": "68322818-6d6f-4214-8640-4623e62b32fe",
   "metadata": {},
   "outputs": [
    {
     "name": "stderr",
     "output_type": "stream",
     "text": [
      "Elaborazione giocatori: 100%|███████████████████| 30/30 [00:52<00:00,  1.74s/it]\n"
     ]
    }
   ],
   "source": [
    "# DataFrame per conservare i dati aggregati di tutti i giocatori\n",
    "all_players_stats = pd.DataFrame()\n",
    "\n",
    "# Ciclo attraverso i giocatori con barra di avanzamento\n",
    "for index, row in tqdm(players_df.iterrows(), total=players_df.shape[0], desc=\"Elaborazione giocatori\"):\n",
    "    player_id = row['Player_ID']\n",
    "    player_name = row['Player_Name']\n",
    "    first_season = row['First_Season']\n",
    "    last_season = row['Last_Season']\n",
    "\n",
    "    # Filtra le stagioni in base alla prima e ultima stagione del giocatore\n",
    "    valid_seasons = [season for season in seasons if first_season <= season <= last_season]\n",
    "\n",
    "    # DataFrame per conservare i dati aggregati per tutte le stagioni del giocatore\n",
    "    player_stats_total = pd.DataFrame()\n",
    "\n",
    "    total_minutes = 0  # Per il calcolo della media dei minuti\n",
    "    total_games = 0    # Per contare il numero di partite giocate\n",
    "\n",
    "    # Variabili per il calcolo delle statistiche totali\n",
    "    total_stats = {\n",
    "        'MIN': 0,\n",
    "        'FGM': 0,\n",
    "        'FGA': 0,\n",
    "        'FG3M': 0,\n",
    "        'FG3A': 0,\n",
    "        'FTM': 0,\n",
    "        'FTA': 0,\n",
    "        'OREB': 0,\n",
    "        'DREB': 0,\n",
    "        'REB': 0,\n",
    "        'AST': 0,\n",
    "        'TOV': 0,\n",
    "        'STL': 0,\n",
    "        'BLK': 0,\n",
    "        'PF': 0,\n",
    "        'PTS': 0,\n",
    "        'PLUS_MINUS': 0\n",
    "    }\n",
    "\n",
    "    # Ciclo attraverso le stagioni valide\n",
    "    for season in valid_seasons:\n",
    "        try:\n",
    "            # Recupero dei dati di gioco per la stagione corrente\n",
    "            gamelog = playergamelog.PlayerGameLog(player_id=player_id, season=season).get_data_frames()[0]\n",
    "\n",
    "            if not gamelog.empty:  # Verifica se il gamelog non è vuoto\n",
    "                # Aggregazione dei dati totali per la stagione\n",
    "                aggregated_stats = gamelog.sum()\n",
    "\n",
    "                # Aggiunta dei dati aggregati alle statistiche totali\n",
    "                total_minutes += aggregated_stats['MIN']\n",
    "                total_games += len(gamelog)\n",
    "\n",
    "                for key in total_stats.keys():\n",
    "                    total_stats[key] += aggregated_stats[key]\n",
    "\n",
    "        except Exception as e:\n",
    "            print(f\"Errore per {player_name} nella stagione {season}: {e}\")\n",
    "\n",
    "    # Calcolo delle statistiche complessive per il giocatore\n",
    "    if total_games > 0:\n",
    "        avg_minutes_per_game = total_minutes / total_games\n",
    "        FG_PCT = total_stats['FGM'] / total_stats['FGA'] if total_stats['FGA'] != 0 else 0\n",
    "        FG3_PCT = total_stats['FG3M'] / total_stats['FG3A'] if total_stats['FG3A'] != 0 else 0\n",
    "        FT_PCT = total_stats['FTM'] / total_stats['FTA'] if total_stats['FTA'] != 0 else 0\n",
    "        AST_TO_RATIO = total_stats['AST'] / total_stats['TOV'] if total_stats['TOV'] != 0 else 0\n",
    "\n",
    "        # Crea un dizionario con le statistiche del giocatore\n",
    "        player_career_stats = {\n",
    "            'PLAYER_ID': player_id,\n",
    "            'PLAYER_NAME': player_name,\n",
    "            'SEASON_YEAR': f\"{first_season} - {last_season}\",\n",
    "            'TOTAL_MIN': total_minutes,\n",
    "            'TOTAL_GAMES': total_games,\n",
    "            'AVG_MIN': avg_minutes_per_game,\n",
    "            'FG_PCT': FG_PCT,\n",
    "            'FG3_PCT': FG3_PCT,\n",
    "            'FT_PCT': FT_PCT,\n",
    "            'AST_TO_RATIO': AST_TO_RATIO,\n",
    "        }\n",
    "\n",
    "        # Aggiunge le statistiche totali\n",
    "        for key, value in total_stats.items():\n",
    "            player_career_stats[key] = value\n",
    "\n",
    "        # Trasforma il dizionario in DataFrame\n",
    "        player_career_stats_df = pd.DataFrame([player_career_stats])\n",
    "\n",
    "        # Aggiunge i dati aggregati al DataFrame principale\n",
    "        all_players_stats = pd.concat([all_players_stats, player_career_stats_df], ignore_index=True)\n"
   ]
  },
  {
   "cell_type": "markdown",
   "id": "ac1c3eae-5298-4300-9609-9f9e152d3b54",
   "metadata": {},
   "source": [
    "#### Calcolo delle statistiche avanzate\n",
    "In questa cella calcoliamo statistiche derivate come FG2 (field goals a due punti), FG2_PCT (percentuale) e altre per partita."
   ]
  },
  {
   "cell_type": "code",
   "execution_count": 42,
   "id": "4a98581e-c0fc-4b2b-b94b-f079f76d9bf4",
   "metadata": {},
   "outputs": [],
   "source": [
    "# Aggiungi le colonne FGM2 e FG2A\n",
    "all_players_stats['FG2M'] = all_players_stats['FGM'] - all_players_stats['FG3M']\n",
    "all_players_stats['FG2A'] = all_players_stats['FGA'] - all_players_stats['FG3A']\n",
    "\n",
    "# Statistiche da mediare\n",
    "stats_to_average = [\n",
    "    'FGM', 'FGA', 'FG3M', 'FG3A', 'FTM', 'FTA', \n",
    "    'OREB', 'DREB', 'REB', 'AST', 'TOV', 'STL', \n",
    "    'BLK', 'PF', 'PTS', 'FG2M', 'FG2A'\n",
    "]\n",
    "\n",
    "# Calcola le statistiche per partita\n",
    "for stat in stats_to_average:\n",
    "    all_players_stats[f'{stat}_PER_GAME'] = all_players_stats[stat] / all_players_stats['TOTAL_GAMES']\n",
    "\n",
    "# Calcola FG2_PCT e eFG_PCT\n",
    "all_players_stats['FG2_PCT'] = np.where(all_players_stats['FG2A'] > 0, all_players_stats['FG2M'] / all_players_stats['FG2A'], np.nan)\n",
    "all_players_stats['eFG_PCT'] = (all_players_stats['FGM'] + 0.5 * all_players_stats['FG3M']) / all_players_stats['FGA']"
   ]
  },
  {
   "cell_type": "markdown",
   "id": "ad19dfc3-14ba-49d0-a1ee-02643af0d8f5",
   "metadata": {},
   "source": [
    "#### Riorganizzazione e salvataggio del DataFrame\n",
    "Riorganizziamo le colonne secondo un ordine specifico e salviamo il risultato finale in un file CSV."
   ]
  },
  {
   "cell_type": "code",
   "execution_count": 43,
   "id": "46e85c1d-31e7-4051-b6f7-3a2a7d4d8bbc",
   "metadata": {},
   "outputs": [
    {
     "name": "stdout",
     "output_type": "stream",
     "text": [
      "Numero di righe prima della rimozione dei duplicati: 30\n",
      "Numero di righe dopo la rimozione dei duplicati: 30\n",
      "Dati aggregati e trasformati salvati in 'nba_stats.csv'\n"
     ]
    }
   ],
   "source": [
    "# Riorganizza le colonne secondo l'ordine specificato\n",
    "ordered_columns = [\n",
    "    'PLAYER_ID', 'PLAYER_NAME', 'SEASON_YEAR', 'TOTAL_MIN', 'TOTAL_GAMES', 'AVG_MIN',\n",
    "    'FGM', 'FGA', 'FG_PCT', 'FGM_PER_GAME', 'FGA_PER_GAME',\n",
    "    'FG2M', 'FG2A', 'FG2_PCT', 'FG2M_PER_GAME', 'FG2A_PER_GAME',\n",
    "    'FG3M', 'FG3A', 'FG3_PCT', 'FG3M_PER_GAME', 'FG3A_PER_GAME', 'eFG_PCT',\n",
    "    'FTM', 'FTA', 'FT_PCT', 'FTM_PER_GAME', 'FTA_PER_GAME',\n",
    "    'OREB', 'DREB', 'REB', 'OREB_PER_GAME', 'DREB_PER_GAME', 'REB_PER_GAME',\n",
    "    'AST', 'TOV', 'AST_TO_RATIO', 'AST_PER_GAME', 'TOV_PER_GAME',\n",
    "    'STL', 'BLK', 'STL_PER_GAME', 'BLK_PER_GAME',\n",
    "    'PF', 'PF_PER_GAME',\n",
    "    'PTS', 'PTS_PER_GAME', 'PLUS_MINUS'\n",
    "]\n",
    "\n",
    "# Riorganizza il DataFrame con l'ordine specificato\n",
    "all_players_stats = all_players_stats[ordered_columns]\n",
    "\n",
    "all_players_stats = all_players_stats[ordered_columns]\n",
    "\n",
    "# Controllo delle righe duplicate\n",
    "print(f\"Numero di righe prima della rimozione dei duplicati: {len(all_players_stats)}\")\n",
    "all_players_stats = all_players_stats.drop_duplicates()\n",
    "print(f\"Numero di righe dopo la rimozione dei duplicati: {len(all_players_stats)}\")\n",
    "\n",
    "# Salvataggio del nuovo CSV\n",
    "all_players_stats.to_csv(\"nba_stats.csv\", index=False)\n",
    "print(\"Dati aggregati e trasformati salvati in 'nba_stats.csv'\")\n"
   ]
  },
  {
   "cell_type": "code",
   "execution_count": 44,
   "id": "823360e0-5696-4a56-892e-57682b64b197",
   "metadata": {},
   "outputs": [
    {
     "data": {
      "text/html": [
       "<div>\n",
       "<style scoped>\n",
       "    .dataframe tbody tr th:only-of-type {\n",
       "        vertical-align: middle;\n",
       "    }\n",
       "\n",
       "    .dataframe tbody tr th {\n",
       "        vertical-align: top;\n",
       "    }\n",
       "\n",
       "    .dataframe thead th {\n",
       "        text-align: right;\n",
       "    }\n",
       "</style>\n",
       "<table border=\"1\" class=\"dataframe\">\n",
       "  <thead>\n",
       "    <tr style=\"text-align: right;\">\n",
       "      <th></th>\n",
       "      <th>PLAYER_ID</th>\n",
       "      <th>PLAYER_NAME</th>\n",
       "      <th>SEASON_YEAR</th>\n",
       "      <th>TOTAL_MIN</th>\n",
       "      <th>TOTAL_GAMES</th>\n",
       "      <th>AVG_MIN</th>\n",
       "      <th>FGM</th>\n",
       "      <th>FGA</th>\n",
       "      <th>FG_PCT</th>\n",
       "      <th>FGM_PER_GAME</th>\n",
       "      <th>...</th>\n",
       "      <th>TOV_PER_GAME</th>\n",
       "      <th>STL</th>\n",
       "      <th>BLK</th>\n",
       "      <th>STL_PER_GAME</th>\n",
       "      <th>BLK_PER_GAME</th>\n",
       "      <th>PF</th>\n",
       "      <th>PF_PER_GAME</th>\n",
       "      <th>PTS</th>\n",
       "      <th>PTS_PER_GAME</th>\n",
       "      <th>PLUS_MINUS</th>\n",
       "    </tr>\n",
       "  </thead>\n",
       "  <tbody>\n",
       "    <tr>\n",
       "      <th>0</th>\n",
       "      <td>203518</td>\n",
       "      <td>Alex Abrines</td>\n",
       "      <td>2016-17 - 2017-18</td>\n",
       "      <td>2190</td>\n",
       "      <td>143</td>\n",
       "      <td>15.314685</td>\n",
       "      <td>249</td>\n",
       "      <td>632</td>\n",
       "      <td>0.393987</td>\n",
       "      <td>1.741259</td>\n",
       "      <td>...</td>\n",
       "      <td>0.405594</td>\n",
       "      <td>75</td>\n",
       "      <td>16</td>\n",
       "      <td>0.524476</td>\n",
       "      <td>0.111888</td>\n",
       "      <td>238</td>\n",
       "      <td>1.664336</td>\n",
       "      <td>759</td>\n",
       "      <td>5.307692</td>\n",
       "      <td>29</td>\n",
       "    </tr>\n",
       "    <tr>\n",
       "      <th>1</th>\n",
       "      <td>1630173</td>\n",
       "      <td>Precious Achiuwa</td>\n",
       "      <td>2020-21 - 2023-24</td>\n",
       "      <td>5233</td>\n",
       "      <td>263</td>\n",
       "      <td>19.897338</td>\n",
       "      <td>820</td>\n",
       "      <td>1704</td>\n",
       "      <td>0.481221</td>\n",
       "      <td>3.117871</td>\n",
       "      <td>...</td>\n",
       "      <td>1.022814</td>\n",
       "      <td>134</td>\n",
       "      <td>167</td>\n",
       "      <td>0.509506</td>\n",
       "      <td>0.634981</td>\n",
       "      <td>487</td>\n",
       "      <td>1.851711</td>\n",
       "      <td>2041</td>\n",
       "      <td>7.760456</td>\n",
       "      <td>-145</td>\n",
       "    </tr>\n",
       "    <tr>\n",
       "      <th>2</th>\n",
       "      <td>101165</td>\n",
       "      <td>Alex Acker</td>\n",
       "      <td>2005-06 - 2007-08</td>\n",
       "      <td>36</td>\n",
       "      <td>5</td>\n",
       "      <td>7.200000</td>\n",
       "      <td>4</td>\n",
       "      <td>16</td>\n",
       "      <td>0.250000</td>\n",
       "      <td>0.800000</td>\n",
       "      <td>...</td>\n",
       "      <td>0.800000</td>\n",
       "      <td>1</td>\n",
       "      <td>0</td>\n",
       "      <td>0.200000</td>\n",
       "      <td>0.000000</td>\n",
       "      <td>4</td>\n",
       "      <td>0.800000</td>\n",
       "      <td>9</td>\n",
       "      <td>1.800000</td>\n",
       "      <td>-33</td>\n",
       "    </tr>\n",
       "    <tr>\n",
       "      <th>3</th>\n",
       "      <td>203112</td>\n",
       "      <td>Quincy Acy</td>\n",
       "      <td>2012-13 - 2017-18</td>\n",
       "      <td>5277</td>\n",
       "      <td>327</td>\n",
       "      <td>16.137615</td>\n",
       "      <td>579</td>\n",
       "      <td>1296</td>\n",
       "      <td>0.446759</td>\n",
       "      <td>1.770642</td>\n",
       "      <td>...</td>\n",
       "      <td>0.657492</td>\n",
       "      <td>139</td>\n",
       "      <td>131</td>\n",
       "      <td>0.425076</td>\n",
       "      <td>0.400612</td>\n",
       "      <td>641</td>\n",
       "      <td>1.960245</td>\n",
       "      <td>1625</td>\n",
       "      <td>4.969419</td>\n",
       "      <td>-470</td>\n",
       "    </tr>\n",
       "    <tr>\n",
       "      <th>4</th>\n",
       "      <td>200801</td>\n",
       "      <td>Hassan Adams</td>\n",
       "      <td>2006-07 - 2007-08</td>\n",
       "      <td>494</td>\n",
       "      <td>61</td>\n",
       "      <td>8.098361</td>\n",
       "      <td>75</td>\n",
       "      <td>135</td>\n",
       "      <td>0.555556</td>\n",
       "      <td>1.229508</td>\n",
       "      <td>...</td>\n",
       "      <td>0.360656</td>\n",
       "      <td>17</td>\n",
       "      <td>4</td>\n",
       "      <td>0.278689</td>\n",
       "      <td>0.065574</td>\n",
       "      <td>47</td>\n",
       "      <td>0.770492</td>\n",
       "      <td>174</td>\n",
       "      <td>2.852459</td>\n",
       "      <td>-17</td>\n",
       "    </tr>\n",
       "  </tbody>\n",
       "</table>\n",
       "<p>5 rows × 47 columns</p>\n",
       "</div>"
      ],
      "text/plain": [
       "   PLAYER_ID       PLAYER_NAME        SEASON_YEAR  TOTAL_MIN  TOTAL_GAMES  \\\n",
       "0     203518      Alex Abrines  2016-17 - 2017-18       2190          143   \n",
       "1    1630173  Precious Achiuwa  2020-21 - 2023-24       5233          263   \n",
       "2     101165        Alex Acker  2005-06 - 2007-08         36            5   \n",
       "3     203112        Quincy Acy  2012-13 - 2017-18       5277          327   \n",
       "4     200801      Hassan Adams  2006-07 - 2007-08        494           61   \n",
       "\n",
       "     AVG_MIN  FGM   FGA    FG_PCT  FGM_PER_GAME  ...  TOV_PER_GAME  STL  BLK  \\\n",
       "0  15.314685  249   632  0.393987      1.741259  ...      0.405594   75   16   \n",
       "1  19.897338  820  1704  0.481221      3.117871  ...      1.022814  134  167   \n",
       "2   7.200000    4    16  0.250000      0.800000  ...      0.800000    1    0   \n",
       "3  16.137615  579  1296  0.446759      1.770642  ...      0.657492  139  131   \n",
       "4   8.098361   75   135  0.555556      1.229508  ...      0.360656   17    4   \n",
       "\n",
       "   STL_PER_GAME  BLK_PER_GAME   PF  PF_PER_GAME   PTS  PTS_PER_GAME  \\\n",
       "0      0.524476      0.111888  238     1.664336   759      5.307692   \n",
       "1      0.509506      0.634981  487     1.851711  2041      7.760456   \n",
       "2      0.200000      0.000000    4     0.800000     9      1.800000   \n",
       "3      0.425076      0.400612  641     1.960245  1625      4.969419   \n",
       "4      0.278689      0.065574   47     0.770492   174      2.852459   \n",
       "\n",
       "   PLUS_MINUS  \n",
       "0          29  \n",
       "1        -145  \n",
       "2         -33  \n",
       "3        -470  \n",
       "4         -17  \n",
       "\n",
       "[5 rows x 47 columns]"
      ]
     },
     "metadata": {},
     "output_type": "display_data"
    }
   ],
   "source": [
    "display(all_players_stats.head())"
   ]
  },
  {
   "cell_type": "markdown",
   "id": "7fc24f46-044d-4118-97a9-71b6c3ce6255",
   "metadata": {},
   "source": [
    "### PASSO FINALE\n",
    "Nei passaggi precedenti, abbiamo elaborato i dati sulle carriere e le statistiche dei giocatori NBA. Ora ci concentriamo sull'etichettatura dei dati per preparare un dataset utilizzabile per il training di un classificatore. Utilizziamo una funzione per assegnare a ogni giocatore un'etichetta (**`playertype`**) basata sul suo stile di gioco. Questo processo è essenziale per definire il target di apprendimento che sarà utilizzato nell'addestramento del modello di machine learning.\n",
    "\n",
    "Alla fine, il dataset etichettato viene salvato in un file CSV (**`nba_train.csv`**) che servirà da base per il training del classificatore."
   ]
  },
  {
   "cell_type": "code",
   "execution_count": 47,
   "id": "5315d232-4bd0-47ff-afe8-3c16d89d8846",
   "metadata": {},
   "outputs": [],
   "source": [
    "import pandas as pd\n",
    "\n",
    "# Carica il file CSV in un DataFrame\n",
    "df = pd.read_csv('nba_stats.csv')"
   ]
  },
  {
   "cell_type": "markdown",
   "id": "b3669de4-a12b-49af-9ead-c528ec5adc72",
   "metadata": {},
   "source": [
    "#### Definizione della funzione per creare le etichette (player_type)\n",
    "In questa cella, definiamo la logica che determina l'etichetta di ciascun giocatore in base al suo stile di gioco. Queste etichette rappresentano il target del nostro classificatore supervisionato."
   ]
  },
  {
   "cell_type": "code",
   "execution_count": 52,
   "id": "77cb0c4b-ea79-4186-8991-df450e7e698a",
   "metadata": {},
   "outputs": [],
   "source": [
    "# Funzione per classificare i giocatori\n",
    "def classify_player(row):\n",
    "    # Inizializza i flag per ogni tipo di giocatore\n",
    "    shooter = (\n",
    "        row['FG3_PCT'] >= 0.35 and\n",
    "        row['eFG_PCT'] >= 0.50 and\n",
    "        row['FG3A_PER_GAME'] >= 3\n",
    "    )\n",
    "    \n",
    "    attacker = (\n",
    "        row['FG2_PCT'] >= 0.44 and\n",
    "        row['FTA_PER_GAME'] >= 1.5 and\n",
    "        row['FG2A_PER_GAME'] >= 4.6\n",
    "    )\n",
    "    \n",
    "    assist_man = (\n",
    "        row['AST_TO_RATIO'] >= 1.2 and\n",
    "        row['AST_PER_GAME'] >= 3.5\n",
    "    )\n",
    "    \n",
    "    defender_pro = (\n",
    "        row['STL_PER_GAME'] >= 0.9 or row['BLK_PER_GAME'] >= 0.6\n",
    "    )\n",
    "    \n",
    "    # Conta quante categorie soddisfa il giocatore\n",
    "    categories = sum([shooter, attacker, assist_man, defender_pro])\n",
    "    \n",
    "    # Classifica il giocatore in base ai criteri\n",
    "    if categories == 0:\n",
    "        return 7  # ROTATION PLAYER\n",
    "    elif categories == 1:\n",
    "        if shooter:\n",
    "            return 1  # SHOOTER\n",
    "        elif attacker:\n",
    "            return 2  # ATTACKER\n",
    "        elif assist_man:\n",
    "            return 3  # ASSIST MAN\n",
    "        elif defender_pro:\n",
    "            return 4  # DEFENDER PRO\n",
    "    elif categories == 2:\n",
    "        return 5  # ROLE_PLAYER\n",
    "    elif categories >= 3:\n",
    "        return 6  # NBA STAR\n"
   ]
  },
  {
   "cell_type": "markdown",
   "id": "d210514d-965d-4b9c-8fa9-7ec9bbc3bdec",
   "metadata": {},
   "source": [
    "#### Applicazione della funzione e salvataggio del dataset etichettato\n",
    "Applichiamo la funzione di classificazione ai dati, generando la colonna player_type. Il dataset aggiornato viene poi salvato in un file CSV che servirà come input per il training del classificatore supervisionato."
   ]
  },
  {
   "cell_type": "code",
   "execution_count": 53,
   "id": "853f87c5-5999-4c6e-9bef-b8157f94afb2",
   "metadata": {},
   "outputs": [
    {
     "name": "stdout",
     "output_type": "stream",
     "text": [
      "Dataset etichettato salvato in 'nba_train.csv'\n"
     ]
    }
   ],
   "source": [
    "# Applica la funzione per classificare ciascun giocatore e crea la colonna 'player_type'\n",
    "df['player_type'] = df.apply(classify_player, axis=1)\n",
    "\n",
    "# Salva il DataFrame modificato in un nuovo file CSV\n",
    "df.to_csv('nba_train.csv', index=False)\n",
    "\n",
    "print(\"Dataset etichettato salvato in 'nba_train.csv'\")\n"
   ]
  },
  {
   "cell_type": "markdown",
   "id": "8a5003a6-e263-4bdc-911a-9422785809f1",
   "metadata": {},
   "source": [
    "#### Conclusione\n",
    "Abbiamo creato un dataset etichettato che rappresenta il target necessario per il training di un classificatore supervisionato. Le etichette (player_type) categorizzano i giocatori in base al loro stile di gioco, facilitando l'apprendimento automatico. Il file **`nba_train.csv`** è ora pronto per essere utilizzato come input nel processo di training del modello, aprendo la strada a previsioni accurate e a ulteriori analisi sui giocatori NBA."
   ]
  }
 ],
 "metadata": {
  "kernelspec": {
   "display_name": "Python 3 (ipykernel)",
   "language": "python",
   "name": "python3"
  },
  "language_info": {
   "codemirror_mode": {
    "name": "ipython",
    "version": 3
   },
   "file_extension": ".py",
   "mimetype": "text/x-python",
   "name": "python",
   "nbconvert_exporter": "python",
   "pygments_lexer": "ipython3",
   "version": "3.10.13"
  }
 },
 "nbformat": 4,
 "nbformat_minor": 5
}
